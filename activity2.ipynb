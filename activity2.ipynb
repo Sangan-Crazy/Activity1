{
 "cells": [
  {
   "cell_type": "code",
   "execution_count": 8,
   "id": "a927a685-784d-4881-8e51-5337cd556bd6",
   "metadata": {},
   "outputs": [
    {
     "name": "stdout",
     "output_type": "stream",
     "text": [
      "3\n",
      "1\n",
      "6\n"
     ]
    }
   ],
   "source": [
    "def count_vowels(s):\n",
    "    return len(list(filter(lambda char: char in \"aeiouAEIOU\", s)))\n",
    "\n",
    "print(count_vowels(\"Hello world\"))\n",
    "print(count_vowels(\"python\"))\n",
    "print(count_vowels(\"Beautiful Day\"))"
   ]
  },
  {
   "cell_type": "code",
   "execution_count": 9,
   "id": "1d9ae318-5f60-4ec2-8eb9-d7ef5db11bad",
   "metadata": {},
   "outputs": [
    {
     "name": "stdout",
     "output_type": "stream",
     "text": [
      "45\n"
     ]
    }
   ],
   "source": [
    "def find_largest(numbers):\n",
    "    return max(numbers)\n",
    "\n",
    "# Example usage:\n",
    "numbers = [10, 30, 5, 8, 45, 35]\n",
    "largest_number = find_largest(numbers)\n",
    "print(largest_number)"
   ]
  },
  {
   "cell_type": "code",
   "execution_count": 10,
   "id": "687ae038-5834-43cb-8450-b7b1e9ae546d",
   "metadata": {},
   "outputs": [
    {
     "name": "stdout",
     "output_type": "stream",
     "text": [
      "True\n",
      "False\n",
      "True\n"
     ]
    }
   ],
   "source": [
    "def is_palindrome(s):\n",
    "\n",
    "    s = s.replace(\" \", \"\").lower()\n",
    "    \n",
    "  \n",
    "    return s == s[::-1]\n",
    "\n",
    "\n",
    "print(is_palindrome(\"malayalam\"))    \n",
    "print(is_palindrome(\"raj\"))    \n",
    "print(is_palindrome(\"mam\"))"
   ]
  },
  {
   "cell_type": "code",
   "execution_count": null,
   "id": "1b277306-9c87-4a30-82f0-5f31a66c4b57",
   "metadata": {},
   "outputs": [],
   "source": []
  }
 ],
 "metadata": {
  "kernelspec": {
   "display_name": "Python 3 (ipykernel)",
   "language": "python",
   "name": "python3"
  },
  "language_info": {
   "codemirror_mode": {
    "name": "ipython",
    "version": 3
   },
   "file_extension": ".py",
   "mimetype": "text/x-python",
   "name": "python",
   "nbconvert_exporter": "python",
   "pygments_lexer": "ipython3",
   "version": "3.12.7"
  }
 },
 "nbformat": 4,
 "nbformat_minor": 5
}
